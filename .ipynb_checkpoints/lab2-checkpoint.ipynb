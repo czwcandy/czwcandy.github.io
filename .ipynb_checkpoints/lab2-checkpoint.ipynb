{
 "cells": [
  {
   "cell_type": "code",
   "execution_count": 1,
   "metadata": {
    "deletable": false,
    "editable": false
   },
   "outputs": [],
   "source": [
    "# Initialize Otter\n",
    "import otter\n",
    "grader = otter.Notebook(\"lab2.ipynb\")"
   ]
  },
  {
   "cell_type": "code",
   "execution_count": 2,
   "metadata": {},
   "outputs": [],
   "source": [
    "from hashlib import sha1"
   ]
  },
  {
   "cell_type": "markdown",
   "metadata": {},
   "source": [
    "# DSCI 521 - Lab 2"
   ]
  },
  {
   "cell_type": "markdown",
   "metadata": {},
   "source": [
    "<div class=\"alert alert-info\" style=\"color:black\">\n",
    "\n",
    "### Submission Instructions\n",
    "rubric={mechanics:2}\n",
    " \n",
    "<br> You receive mark for submitting your lab correctly, please follow these instructions: <br>    \n",
    "\n",
    "- [Follow the general lab instructions](https://ubc-mds.github.io/resources_pages/general_lab_instructions/).<br>\n",
    "- [Click here to view a description of the rubrics used to grade the questions](https://github.com/UBC-MDS/public/tree/master/rubric).\n",
    "- Push your `.ipynb` file to your GitHub repository for this lab.<br>\n",
    "- Submit your `.ipynb` file to Gradescope.\n",
    "- Include a clickable link to your GitHub repo for the lab just below this cell (it should look something like this https://github.ubc.ca/MDS-2021-22/DSCI_521_labX_yourcwl. \n",
    "\n",
    "</div>"
   ]
  },
  {
   "cell_type": "markdown",
   "metadata": {},
   "source": [
    "YOUR LAB GITHUB REPO LINK GOES HERE "
   ]
  },
  {
   "cell_type": "raw",
   "metadata": {},
   "source": [
    "https://github.ubc.ca/MDS-2023-24/DSCI_521_lab2_kchen325.git"
   ]
  },
  {
   "cell_type": "markdown",
   "metadata": {},
   "source": [
    "YOUR WEBSITE REPO LINK GOES HERE (more on this at the end of lab)"
   ]
  },
  {
   "cell_type": "raw",
   "metadata": {},
   "source": [
    "https://czwcandy.github.io/"
   ]
  },
  {
   "cell_type": "markdown",
   "metadata": {},
   "source": [
    "In this part of the lab you'll be building on the skills you've learned last week around working with Git and GitHub repositories.\n",
    "We will be using your homework repository as the git repository exmaple.\n",
    "By the time you're done with this assignment you should've already finsihed your minimum of 3 commits required for the assignment.\n",
    "To make sure you do not loose work on your actual `lab2.ipynb` make sure to commit often so your work can always be recovered if something else goes wrong in the repository."
   ]
  },
  {
   "cell_type": "markdown",
   "metadata": {},
   "source": [
    "## 1. Preparing the git repository"
   ]
  },
  {
   "cell_type": "markdown",
   "metadata": {
    "deletable": false,
    "editable": false
   },
   "source": [
    "<div class=\"alert alert-info\" style=\"color:black\">\n",
    "\n",
    "### Question 1.1\n",
    "rubric={mechanics:4}\n",
    "\n",
    "1. `clone` down your `lab2`repository so we can start the lab and make a few changes to it.\n",
    "2. edit the readme file at the end of the file 3 times and make 3 separate commits:\n",
    "    - commit 1: list your favorite foods\n",
    "    - commit 2: like what you like to do in your free time\n",
    "    - commit 3: list one thing you learned in any of yoru MDS classes so far\n",
    "\n",
    "The text you added to the README.md file may look something like this (do not remove existing text in there)\n",
    "\n",
    "```\n",
    "- Favorite food: pizza\n",
    "- Free time: running\n",
    "- Learned: Scripts and automation means you either do the same thing correctly 130 times, or incorrectly 130 times\n",
    "```\n",
    "\n",
    "3. Push your changes back up to your `lab2` github repository.\n",
    "   - You should've now finished your 3 commits lab mechanics for this assignment\n",
    "   - Remember to put the URL of your repository at the top of this lab\n",
    "\n",
    "</div>"
   ]
  },
  {
   "cell_type": "markdown",
   "metadata": {},
   "source": [
    "## 2. Visualizing your Git history"
   ]
  },
  {
   "cell_type": "markdown",
   "metadata": {
    "deletable": false,
    "editable": false
   },
   "source": [
    "<!-- BEGIN QUESTION -->\n",
    "\n",
    "<div class=\"alert alert-info\" style=\"color:black\">\n",
    "\n",
    "### Question 2.1\n",
    "rubric={reasoning:4.5}\n",
    "\n",
    "Go back to the repository\n",
    "\n",
    "4. Display your full commit log (should be at least three commits now, the initial one + your changes) with *one line* per commit plus the *parts*/*patches* of changed code visible.<br>\n",
    "    - Hint: You will need to use a total of two optional argument (also called flags) to display the log in the correct format.\n",
    "      Watch the lecture or read the git help/man pages to remember which these are.<br>\n",
    "5. Copy both the log command that you ran and its output and paste it in your solution below as a fenced code block\n",
    "   (check out [this Markdown](https://www.markdownguide.org/extended-syntax/) if you don't remember what this is)\n",
    "   with the language tag for syntax highlighting.<br>\n",
    "   - Even if you can't figure out how to display and post your code in the correct format,\n",
    "     paste what you have below to receive marks for tasks 1-3 in this question.\n",
    "\n",
    "    \n",
    "</div>"
   ]
  },
  {
   "cell_type": "raw",
   "metadata": {
    "deletable": false,
    "editable": false
   },
   "source": []
  },
  {
   "cell_type": "markdown",
   "metadata": {},
   "source": [
    "```\n",
    "git log --oneline -p\n",
    "68f49e6 (HEAD -> master, origin/master, origin/HEAD) list one thing you learned in any of yoru MDS classes so far\n",
    "diff --git a/README.md b/README.md\n",
    "index 6926646..16c3ffa 100644\n",
    "--- a/README.md\n",
    "+++ b/README.md\n",
    "@@ -3,4 +3,5 @@\n",
    " DSCI 521 lab2 for Ziwei Chen (kchen325)\n",
    " \n",
    " - Favorite food: pizza\n",
    "-- Free time: running\n",
    "\\ No newline at end of file\n",
    "+- Free time: running\n",
    "+- Learned: Scripts and automation means you either do the same thing correctly 130 times, or incorrectly 130 times\n",
    "\\ No newline at end of file\n",
    "f51a684 like what you like to do in your free time\n",
    "diff --git a/README.md b/README.md\n",
    "index 9753712..6926646 100644\n",
    "--- a/README.md\n",
    "+++ b/README.md\n",
    "@@ -2,4 +2,5 @@\n",
    " \n",
    " DSCI 521 lab2 for Ziwei Chen (kchen325)\n",
    " \n",
    "-- Favorite food: pizza\n",
    "\\ No newline at end of file\n",
    "+- Favorite food: pizza\n",
    "+- Free time: running\n",
    "\\ No newline at end of file\n",
    "a7363c1 list your favorite foods\n",
    "diff --git a/.ipynb_checkpoints/lab2-checkpoint.ipynb b/.ipynb_checkpoints/lab2-checkpoint.ipynb\n",
    "index 797943d..92cbbaf 100644\n",
    "--- a/.ipynb_checkpoints/lab2-checkpoint.ipynb\n",
    "+++ b/.ipynb_checkpoints/lab2-checkpoint.ipynb\n",
    "@@ -60,7 +60,9 @@\n",
    "   {\n",
    "    \"cell_type\": \"raw\",\n",
    "    \"metadata\": {},\n",
    "-   \"source\": []\n",
    "+   \"source\": [\n",
    "+    \"https://github.ubc.ca/MDS-2023-24/DSCI_521_lab2_kchen325.git\"\n",
    "+   ]\n",
    "   },\n",
    "   {\n",
    "    \"cell_type\": \"markdown\",\n",
    "@@ -72,7 +74,9 @@\n",
    "   {\n",
    "    \"cell_type\": \"raw\",\n",
    "    \"metadata\": {},\n",
    ":\n",
    "\n",
    "```"
   ]
  },
  {
   "cell_type": "markdown",
   "metadata": {
    "deletable": false,
    "editable": false,
    "nbgrader": {
     "grade": false,
     "grade_id": "cell-6c7787b6dc9f3e79",
     "locked": true,
     "schema_version": 3,
     "solution": false
    }
   },
   "source": [
    "<!-- END QUESTION -->\n",
    "\n",
    "<div class=\"alert alert-info\" style=\"color:black\">\n",
    "\n",
    "### Question 2.2\n",
    "rubric={reasoning:2}\n",
    "\n",
    "**Select ALL the correct answers**\n",
    "\n",
    "How could you make this same comparison between commits using `git diff` from the command line https://github.com/UBC-MDS/equine_numbers_value_canada/compare/1bb5ab8..9021b83?\n",
    "\n",
    "```\n",
    "A. `git diff 9021b83`\n",
    "B. `git diff 1bb5ab8`\n",
    "C. `git diff 1bb5ab8 9021b83`\n",
    "D. The first and third options are both correct\n",
    "E. The second and third option are both correct\n",
    "```"
   ]
  },
  {
   "cell_type": "code",
   "execution_count": 3,
   "metadata": {
    "nbgrader": {
     "grade": true,
     "grade_id": "cell-46e9aef1a3bc6885",
     "locked": false,
     "points": 0,
     "schema_version": 3,
     "solution": true
    },
    "tags": []
   },
   "outputs": [],
   "source": [
    "...\n",
    "\n",
    "\n",
    "\n",
    "answer_22 = \"E\"\n"
   ]
  },
  {
   "cell_type": "code",
   "execution_count": 4,
   "metadata": {
    "deletable": false,
    "editable": false
   },
   "outputs": [
    {
     "data": {
      "text/html": [
       "<p><strong><pre style='display: inline;'>q22</pre></strong> passed! 🍀</p>"
      ],
      "text/plain": [
       "q22 results: All test cases passed!"
      ]
     },
     "execution_count": 4,
     "metadata": {},
     "output_type": "execute_result"
    }
   ],
   "source": [
    "grader.check(\"q22\")"
   ]
  },
  {
   "cell_type": "markdown",
   "metadata": {
    "deletable": false,
    "editable": false
   },
   "source": [
    "<!-- BEGIN QUESTION -->\n",
    "\n",
    "<div class=\"alert alert-info\" style=\"color:black\">\n",
    "    \n",
    "### Question 2.4\n",
    "rubric={reasoning:2}\n",
    "\n",
    "![](imgs/example-github-history.png)\n",
    "    \n",
    "After you check the differences between the commits, you decide that you want to undo the commit `61d0f0a`. In this project you are working with other colleagues, who have also cloned the repository and are working on their own local changes.\n",
    "\n",
    "Because of this, you decide to return the repository to that previous commit in a way that don't affect the workflow of your colleagues.\n",
    "\n",
    "Which of the following options would you prefer in this context?\n",
    "\n",
    "A. `git reset --hard 61d0f0a`  \n",
    "B. `git reset --soft 61d0f0a`  \n",
    "C. `git revert 61d0f0a`  \n",
    "\n",
    "</div>"
   ]
  },
  {
   "cell_type": "markdown",
   "metadata": {},
   "source": [
    "C"
   ]
  },
  {
   "cell_type": "markdown",
   "metadata": {
    "deletable": false,
    "editable": false
   },
   "source": [
    "<!-- END QUESTION -->\n",
    "\n",
    "## 3. Merge conflicts"
   ]
  },
  {
   "cell_type": "markdown",
   "metadata": {
    "deletable": false,
    "editable": false
   },
   "source": [
    "<div class=\"alert alert-info\" style=\"color:black\">\n",
    "    \n",
    "### Question 3.1\n",
    "rubric={autograder:2}\n",
    "\n",
    "You are working with some colleagues in a project. After pulling your changes you realize that you are having a merge conflict in the repository. You type `code .` to open [answer_31a] and fix the problem.\n",
    "\n",
    "options: VS Code - JupyterLab - GitHub - the command line - RStudio\n",
    "\n",
    "This is what you see:\n",
    "    \n",
    "![](imgs/merge-conflict.png)\n",
    "\n",
    "\n",
    "\n",
    "- You decide to [answer_31b] to fix the problem. After selecting you save the file and then you add the changes to the staging area and commit them.\n",
    "\n",
    "options: accept current change - accept incoming change - accept both changes\n",
    "\n",
    "- Before pushing you decide to create a second commit to include to the `.gitignore` file a line to avoid pushing very big images related to the project that you don't want to include due to its size. All the images starts with the word image and are followed by a code that identify it as this one `image_0943534.png`. You will add the following line to the `.gitignore` file: [answer_31c].\n",
    "\n",
    "options: `image*` - `*png` - `image_0943534.png`\n",
    "\n",
    "- As you never want to include the file `.ipynb_checkpoints`, that appears when you use Jupyter Notebook, you have decided to ignore it for all your projects including it in the [answer_31d] file.\n",
    "\n",
    "options: `.gitignore_global` - `.gitignore` - `.git` "
   ]
  },
  {
   "cell_type": "code",
   "execution_count": 5,
   "metadata": {
    "tags": [
     "solution"
    ]
   },
   "outputs": [],
   "source": [
    "...\n",
    "\n",
    "answer_31a = \"VS Code\"\n",
    "answer_31b = \"Accept Current Change\"\n",
    "answer_31c = \"image*\"\n",
    "answer_31d = \".gitignore_global\""
   ]
  },
  {
   "cell_type": "code",
   "execution_count": 6,
   "metadata": {
    "deletable": false,
    "editable": false
   },
   "outputs": [
    {
     "data": {
      "text/html": [
       "<p><strong><pre style='display: inline;'>q31</pre></strong> passed! 🌟</p>"
      ],
      "text/plain": [
       "q31 results: All test cases passed!"
      ]
     },
     "execution_count": 6,
     "metadata": {},
     "output_type": "execute_result"
    }
   ],
   "source": [
    "grader.check(\"q31\")"
   ]
  },
  {
   "cell_type": "markdown",
   "metadata": {
    "deletable": false,
    "editable": false
   },
   "source": [
    "<!-- BEGIN QUESTION -->\n",
    "\n",
    "<div class=\"alert alert-info\" style=\"color:black\">\n",
    "    \n",
    "### Question 3.2\n",
    "{challenging question}\n",
    "\n",
    "In your own words and in 3-4 sentences, describe the command `git stash` explaining when it is helpful to avoid merge conflicts. \n"
   ]
  },
  {
   "cell_type": "markdown",
   "metadata": {},
   "source": [
    "git stash can save the current working environment and renew the current working enviornment to a clean status. That's why it is can avoid conflicts. After that, we can use git stash pop to get back out local file. "
   ]
  },
  {
   "cell_type": "markdown",
   "metadata": {
    "deletable": false,
    "editable": false
   },
   "source": [
    "<!-- END QUESTION -->\n",
    "\n",
    "<!-- BEGIN QUESTION -->\n",
    "\n",
    "<div class=\"alert alert-info\" style=\"color:black\">\n",
    "\n",
    "### Question 3.3\n",
    "rubric={reasoning:1}\n",
    "    \n",
    "<p>Create a <code>.gitignore_global</code> file\n",
    "   by following <a href=\"https://docs.github.com/en/free-pro-team@latest/github/using-git/ignoring-files#configuring-ignored-files-for-all-repositories-on-your-computer\">\n",
    "   the instructions in the GitHub documentation\n",
    "   under \"Configuring ignored files for all repositories on your computer\"</a></p>\n",
    "    \n",
    "<p>The rules in this file will be applied to all your repositories,\n",
    "   so you should only include files that you *always* want to ignore here.\n",
    "   For now,\n",
    "   ignore files/folders with the names\n",
    "   <code>.ipynb_checkpoints</code>, <code>.Rhistory</code>, <code>__pycache__</code>,\n",
    "   (on macOS it is also a good idea to ignore <code>.DS_Store</code> everywhere).\n",
    "   Write the rules for the three files in the cell below\n",
    "   as your answer to this question.\n",
    "\n",
    "<p>(If you want to ignore more files, feel free to <a href=\"https://github.com/github/gitignore\">use the gitignore repo for recommendations.)</a></p>\n",
    "    \n",
    "</div>"
   ]
  },
  {
   "cell_type": "markdown",
   "metadata": {},
   "source": [
    "*.ipynb_checkpoints\n",
    "*..Rhistory\n",
    "*.__pycache__\n",
    ".DS_Store"
   ]
  },
  {
   "cell_type": "markdown",
   "metadata": {
    "deletable": false,
    "editable": false
   },
   "source": [
    "<!-- END QUESTION -->\n",
    "\n",
    "<!-- BEGIN QUESTION -->\n",
    "\n",
    "<div class=\"alert alert-info\" style=\"color:black\">\n",
    "\n",
    "### Question 3.4\n",
    "rubric={mechanics:5}\n",
    "    \n",
    "Create conflicting changes to your lab assignment `README.md`\n",
    "\n",
    "#### 3.4.1 In the GitHub repository:\n",
    "\n",
    "- Make sure your commits in Question 1 are pushed to the remote github repository\n",
    "    - This question will not work if your changes are not already pushed\n",
    "    - You will need to re-create 3 separate commits for this example if you do these steps out of order\n",
    " \n",
    "\n",
    "- Make a change to the `README.md` file by adding markdown `h2` headers (with `##`) to the 3 sections.\n",
    "\n",
    " For example, the sections would look something like this:\n",
    "\n",
    " ```\n",
    "## Favorite Food\n",
    "\n",
    "pizza\n",
    "\n",
    "## Free time\n",
    "\n",
    "running\n",
    "\n",
    "## Learned\n",
    "\n",
    "Scripts and automation means you either do the same thing correctly 130 times, or incorrectly 130 times\n",
    "```\n",
    "\n",
    "#### 3.4.2 In your local repository\n",
    "\n",
    "**DO NOT PULL YOUR CHANGES**\n",
    "\n",
    "In a separate set of commits: turn the block of text we initially added to the `README.md` file into regular prose text.\n",
    "\n",
    " For example, the sections would look something like this:\n",
    "\n",
    " ```\n",
    "My favorite food is pizza.\n",
    "I like to run in my free time.\n",
    "I learned that scripts and automation means you either do the same thing correctly 130 times, or incorrectly 130 times.\n",
    "```\n",
    "\n",
    "#### 3.4.3 In your local repository\n",
    "\n",
    "- Push your local changes to the GitHub remote. This will trigger a message that says your push will be blocked.\n",
    "- Incorporate the changes from the remote github repository, fix your conflicts, and push your changes to the github remote\n",
    "    - You can keep the header format, the regular prose format, or any combination you want\n",
    "- Push your changes to the remote github repository after you are done with your conflict resolution\n",
    " \n",
    "#### Post your log for the lab\n",
    "\n",
    "Just like earlier in the lab, submit your one line log with changes in each commit in the space below\n",
    "    \n",
    "</div>"
   ]
  },
  {
   "cell_type": "markdown",
   "metadata": {},
   "source": [
    "```\n",
    "$ git log --oneline -p\n",
    "18b9974 (HEAD -> master, origin/master, origin/HEAD) prepare to be refused\n",
    "diff --git a/.OTTER_LOG b/.OTTER_LOG\n",
    "new file mode 100644\n",
    "index 0000000..960743c\n",
    "Binary files /dev/null and b/.OTTER_LOG differ\n",
    "diff --git a/.ipynb_checkpoints/lab2-checkpoint.ipynb b/.ipynb_checkpoints/lab2-checkpoint.ipynb\n",
    "index 92cbbaf..d725983 100644\n",
    "--- a/.ipynb_checkpoints/lab2-checkpoint.ipynb\n",
    "+++ b/.ipynb_checkpoints/lab2-checkpoint.ipynb\n",
    "@@ -2,7 +2,7 @@\n",
    "  \"cells\": [\n",
    "   {\n",
    "    \"cell_type\": \"code\",\n",
    "-   \"execution_count\": null,\n",
    "+   \"execution_count\": 1,\n",
    "    \"metadata\": {\n",
    "     \"deletable\": false,\n",
    "     \"editable\": false\n",
    "@@ -16,7 +16,7 @@\n",
    "   },\n",
    "   {\n",
    "    \"cell_type\": \"code\",\n",
    "-   \"execution_count\": null,\n",
    "+   \"execution_count\": 2,\n",
    "    \"metadata\": {},\n",
    "    \"outputs\": [],\n",
    "    \"source\": [\n",
    "@@ -176,7 +176,58 @@\n",
    "    \"cell_type\": \"markdown\",\n",
    "    \"metadata\": {},\n",
    "    \"source\": [\n",
    "-    \"_Type your answer here, replacing this text._\"\n",
    "+    \"'''\\n\",\n",
    "+    \"68f49e6 (HEAD -> master, origin/master, origin/HEAD) list one thing you learned in any of yoru MDS classes so far\\n\",\n",
    "+    \"diff --git a/README.md b/README.md\\n\",\n",
    "+    \"index 6926646..16c3ffa 100644\\n\",\n",
    "+    \"--- a/README.md\\n\",\n",
    "+    \"+++ b/README.md\\n\",\n",
    "+    \"@@ -3,4 +3,5 @@\\n\",\n",
    "+    \" DSCI 521 lab2 for Ziwei Chen (kchen325)\\n\",\n",
    "+    \" \\n\",\n",
    "+    \" - Favorite food: pizza\\n\",\n",
    "+    \"-- Free time: running\\n\",\n",
    "+    \"\\\\ No newline at end of file\\n\",\n",
    "+    \"+- Free time: running\\n\",\n",
    "+    \"+- Learned: Scripts and automation means you either do the same thing correctly 130 times, or incorrectly 130 times\\n\",\n",
    "+    \"\\\\ No newline at end of file\\n\",\n",
    "+    \"f51a684 like what you like to do in your free time\\n\",\n",
    "```"
   ]
  },
  {
   "cell_type": "markdown",
   "metadata": {
    "deletable": false,
    "editable": false
   },
   "source": [
    "<!-- END QUESTION -->\n",
    "\n",
    "<!-- BEGIN QUESTION -->\n",
    "\n",
    "### 4. Quarto Websites\n",
    "\n",
    "rubric={mechanics:5}\n",
    "\n",
    "In this part of the lab we'll run terminal commands in a github repository to build a website using Quarto.\n",
    "\n",
    "We can then use the exiting GitHub infrastructure publish this website on the internet. You will make a small edit to the base template, and are free to use this as a starting point to build out your professional data science presence.\n",
    "\n",
    "#### Recommended order of tasks\n",
    "\n",
    "The end goal is to have a github repository with a rendered quarto website. You can either opt to create everything locally first (think `git init`) or create the repository first and then bring it down to your computer (think `git clone`). There are differences in each method, but the end product will be the same.\n",
    "\n",
    "1. Create a github repository (the public github, not enterprise) with the following pattern: `USERNAME.github.io`, replace `USERNAME` with your actual github username\n",
    "2. Pre-populate it with a `README.md` file and a creative commons licence. You can also choose a premade `.gitignore` file as well, this won't matter too much foir this particular lab section.\n",
    "3. Bring down the github repository to your local computer\n",
    "\n",
    "#### Build and publish the Quarto website\n",
    "\n",
    "1. Go through the Quarto Website Docs to create and build your website: https://quarto.org/docs/websites/\n",
    "2. Push all the relevant files to the github repository\n",
    "3. Have github render the default tmeplate website\n",
    "4. Make a change to the template website\n",
    "    - Introduce yourself to the world, you can do this on the main homepage, or in a dedicated About page\n",
    "  \n",
    "#### Link the website to us"
   ]
  },
  {
   "cell_type": "markdown",
   "metadata": {
    "deletable": false,
    "editable": false
   },
   "source": [
    "- At the top of the lab provide 2 links:\n",
    "    - The github repository where your website code is hosted\n",
    "    - The rendered website"
   ]
  },
  {
   "cell_type": "markdown",
   "metadata": {
    "deletable": false,
    "editable": false
   },
   "source": [
    "<!-- END QUESTION -->\n",
    "\n",
    "---\n",
    "\n",
    "# Submission \n",
    "\n",
    "When you are ready to submit your assignment do the following:\n",
    "\n",
    "1. Run all cells in your notebook to make sure there are no errors by doing `Kernel -> Restart Kernel and Run All Cells...`\n",
    "2. Enter Canvas and upload the assignment using Gradescope's drag and drop tool.\n",
    "3. Don't forget to also commit 3 times and push your work to GitHub.\n",
    "\n",
    "Remember that you will find a detailed set of instructions including videos on [Canvas](https://canvas.ubc.ca/courses/102033)."
   ]
  }
 ],
 "metadata": {
  "kernelspec": {
   "display_name": "Python 3 (ipykernel)",
   "language": "python",
   "name": "python3"
  },
  "language_info": {
   "codemirror_mode": {
    "name": "ipython",
    "version": 3
   },
   "file_extension": ".py",
   "mimetype": "text/x-python",
   "name": "python",
   "nbconvert_exporter": "python",
   "pygments_lexer": "ipython3",
   "version": "3.11.4"
  },
  "otter": {
   "OK_FORMAT": true,
   "tests": {
    "q22": {
     "name": "q22",
     "points": 1,
     "suites": [
      {
       "cases": [
        {
         "code": ">>> # run this cell to check your answer in the cell above\n>>> assert sha1(str(answer_22).encode('utf8')).hexdigest() == 'e0184adedf913b076626646d3f52c3b49c39ad6d', \"Incorrect answer, try again!\"\n",
         "hidden": false,
         "locked": false
        }
       ],
       "scored": true,
       "setup": "",
       "teardown": "",
       "type": "doctest"
      }
     ]
    },
    "q31": {
     "name": "q31",
     "points": 2,
     "suites": [
      {
       "cases": [
        {
         "code": ">>> # run this cell to check your answer in the cell above\n>>> assert sha1(str(answer_31a).encode('utf8')).hexdigest() == '64edc3e61e990b31989c7a5ea4bb286a02499b5a', \"Incorrect answer, try again!\"\n",
         "hidden": false,
         "locked": false
        },
        {
         "code": ">>> # run this cell to check your answer in the cell above\n>>> assert sha1(str(answer_31b).encode('utf8')).hexdigest() == 'a9bf0530e98e3ed089f9b90b222ea0f5b915f3b6', \"Incorrect answer, try again!\"\n",
         "hidden": false,
         "locked": false
        },
        {
         "code": ">>> # run this cell to check your answer in the cell above\n>>> assert sha1(str(answer_31c).encode('utf8')).hexdigest() == '13cf0bf71ac2dd6ccc1191ca2aa98b548b3c83a8', \"Incorrect answer, try again!\"\n",
         "hidden": false,
         "locked": false
        },
        {
         "code": ">>> # run this cell to check your answer in the cell above\n>>> assert sha1(str(answer_31d).encode('utf8')).hexdigest() == '6d126edb35207ce365433d6127511d78419b5b5b', \"Incorrect answer, try again!\"\n",
         "hidden": false,
         "locked": false
        }
       ],
       "scored": true,
       "setup": "",
       "teardown": "",
       "type": "doctest"
      }
     ]
    }
   }
  },
  "vscode": {
   "interpreter": {
    "hash": "3d597f4c481aa0f25dceb95d2a0067e73c0966dcbd003d741d821a7208527ecf"
   }
  }
 },
 "nbformat": 4,
 "nbformat_minor": 4
}
